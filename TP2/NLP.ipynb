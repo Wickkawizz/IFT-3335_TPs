{
 "cells": [
  {
   "cell_type": "markdown",
   "source": [
    "# Imports\n",
    "Ici on peut retrouver les importations nécéssaires pour le projet"
   ],
   "metadata": {
    "collapsed": false,
    "pycharm": {
     "name": "#%% md\n"
    }
   }
  },
  {
   "cell_type": "code",
   "execution_count": 42,
   "metadata": {
    "collapsed": true,
    "pycharm": {
     "name": "#%%\n"
    }
   },
   "outputs": [
    {
     "name": "stdout",
     "output_type": "stream",
     "text": [
      "showing info https://raw.githubusercontent.com/nltk/nltk_data/gh-pages/index.xml\n"
     ]
    }
   ],
   "source": [
    "import nltk\n",
    "nltk.download()\n",
    "import sklearn\n",
    "from sklearn.feature_extraction.text import CountVectorizer\n",
    "from sklearn.feature_extraction.text import TfidfVectorizer\n",
    "from nltk.stem import PorterStemmer\n",
    "from nltk.tokenize import sent_tokenize, word_tokenize"
   ]
  },
  {
   "cell_type": "markdown",
   "source": [
    "# Porter\n",
    "Ici nous avons le stemmer Porter et nous faisons quelques tests pour vérifier qu'il fonctionne"
   ],
   "metadata": {
    "collapsed": false,
    "pycharm": {
     "name": "#%% md\n"
    }
   }
  },
  {
   "cell_type": "code",
   "execution_count": 36,
   "outputs": [
    {
     "name": "stdout",
     "output_type": "stream",
     "text": [
      "Porter Stemmer\n",
      "cat\n",
      "troubl\n",
      "troubl\n",
      "troubl\n"
     ]
    }
   ],
   "source": [
    "porter = PorterStemmer()\n",
    "print(\"Porter Stemmer\")\n",
    "print(porter.stem(\"cats\"))\n",
    "print(porter.stem(\"trouble\"))\n",
    "print(porter.stem(\"troubling\"))\n",
    "print(porter.stem(\"troubled\"))"
   ],
   "metadata": {
    "collapsed": false,
    "pycharm": {
     "name": "#%%\n"
    }
   }
  },
  {
   "cell_type": "code",
   "execution_count": 37,
   "outputs": [
    {
     "name": "stdout",
     "output_type": "stream",
     "text": [
      "[ longer/JJR maturities/NNS ] are/VBP thought/VBN to/TO indicate/VB [ declining/VBG interest_6/NN rates/NNS ] because/IN [ they/PP ] permit/VBP [ portfolio/NN managers/NNS ] to/TO retain/VB relatively/RB [ higher/JJR rates/NNS ] for/IN [ a/DT longer/JJR period/NN ] ./. \n",
      "\n"
     ]
    }
   ],
   "source": [
    "# https://scikit-learn.org/stable/modules/feature_extraction.html\n",
    "corpus = []\n",
    "f = open(\"data/interest.acl94.txt\", \"r\")\n",
    "for x in f:\n",
    "    corpus.append(x)\n",
    "\n",
    "# We remove all the $$ from the list to make it cleaner\n",
    "corpus = [i for i in corpus if i != \"$$\\n\"]\n",
    "print(corpus[1])"
   ],
   "metadata": {
    "collapsed": false,
    "pycharm": {
     "name": "#%%\n"
    }
   }
  },
  {
   "cell_type": "markdown",
   "source": [
    "# Count Vectorizer"
   ],
   "metadata": {
    "collapsed": false,
    "pycharm": {
     "name": "#%% md\n"
    }
   }
  },
  {
   "cell_type": "code",
   "execution_count": 38,
   "outputs": [
    {
     "name": "stdout",
     "output_type": "stream",
     "text": [
      "[[0 0 0 ... 0 0 0]\n",
      " [0 0 0 ... 0 0 0]\n",
      " [0 0 0 ... 0 0 0]\n",
      " ...\n",
      " [0 0 0 ... 0 0 0]\n",
      " [0 0 0 ... 0 0 0]\n",
      " [0 0 0 ... 0 0 0]]\n"
     ]
    }
   ],
   "source": [
    "# https://scikit-learn.org/stable/modules/generated/sklearn.feature_extraction.text.CountVectorizer.html\n",
    "vectorizer = CountVectorizer(input=\"content\")\n",
    "X_count = vectorizer.fit_transform(corpus)\n",
    "vectorizer.get_feature_names_out()\n",
    "print(X_count.toarray())"
   ],
   "metadata": {
    "collapsed": false,
    "pycharm": {
     "name": "#%%\n"
    }
   }
  },
  {
   "cell_type": "markdown",
   "source": [
    "# TF-IDF Vectorizer"
   ],
   "metadata": {
    "collapsed": false,
    "pycharm": {
     "name": "#%% md\n"
    }
   }
  },
  {
   "cell_type": "code",
   "execution_count": 39,
   "outputs": [
    {
     "name": "stdout",
     "output_type": "stream",
     "text": [
      "(2368, 7073)\n",
      "[[0 0 0 ... 0 0 0]\n",
      " [0 0 0 ... 0 0 0]\n",
      " [0 0 0 ... 0 0 0]\n",
      " ...\n",
      " [0 0 0 ... 0 0 0]\n",
      " [0 0 0 ... 0 0 0]\n",
      " [0 0 0 ... 0 0 0]]\n"
     ]
    }
   ],
   "source": [
    "# https://scikit-learn.org/stable/modules/generated/sklearn.feature_extraction.text.TfidfVectorizer.html#sklearn.feature_extraction.text.TfidfVectorizer\n",
    "Tfvectorizer = TfidfVectorizer(input=\"content\")\n",
    "X_tfidf = vectorizer.fit_transform(corpus)\n",
    "vectorizer.get_feature_names_out()\n",
    "print(X_tfidf.shape)\n",
    "print(X_tfidf.toarray())"
   ],
   "metadata": {
    "collapsed": false,
    "pycharm": {
     "name": "#%%\n"
    }
   }
  },
  {
   "cell_type": "code",
   "execution_count": 43,
   "outputs": [
    {
     "name": "stdout",
     "output_type": "stream",
     "text": [
      "['[', 'longer/JJR', 'maturities/NNS', ']', 'are/VBP', 'thought/VBN', 'to/TO', 'indicate/VB', '[', 'declining/VBG', 'interest_6/NN', 'rates/NNS', ']', 'because/IN', '[', 'they/PP', ']', 'permit/VBP', '[', 'portfolio/NN', 'managers/NNS', ']', 'to/TO', 'retain/VB', 'relatively/RB', '[', 'higher/JJR', 'rates/NNS', ']', 'for/IN', '[', 'a/DT', 'longer/JJR', 'period/NN', ']', './', '.']\n",
      "[('[', 'JJ'), ('longer/JJR', 'NN'), ('maturities/NNS', 'NN'), (']', 'NNP'), ('are/VBP', 'NN'), ('thought/VBN', 'NN'), ('to/TO', 'NN'), ('indicate/VB', 'NN'), ('[', 'NNP'), ('declining/VBG', 'NN'), ('interest_6/NN', 'NN'), ('rates/NNS', 'NN'), (']', 'NNP'), ('because/IN', 'NN'), ('[', 'NNP'), ('they/PP', 'NN'), (']', 'NNP'), ('permit/VBP', 'NN'), ('[', 'NNP'), ('portfolio/NN', 'NN'), ('managers/NNS', 'NN'), (']', 'NNP'), ('to/TO', 'NN'), ('retain/VB', 'NN'), ('relatively/RB', 'NN'), ('[', 'NNP'), ('higher/JJR', 'NN'), ('rates/NNS', 'NN'), (']', 'NNP'), ('for/IN', 'NN'), ('[', 'NNP'), ('a/DT', 'NN'), ('longer/JJR', 'NN'), ('period/NN', 'NN'), (']', 'NNP'), ('./', 'NNP'), ('.', '.')]\n",
      "(S\n",
      "  (NP [/JJ longer/JJR/NN)\n",
      "  (NP maturities/NNS/NN)\n",
      "  ]/NNP\n",
      "  (NP are/VBP/NN)\n",
      "  (NP thought/VBN/NN)\n",
      "  (NP to/TO/NN)\n",
      "  (NP indicate/VB/NN)\n",
      "  [/NNP\n",
      "  (NP declining/VBG/NN)\n",
      "  (NP interest_6/NN/NN)\n",
      "  (NP rates/NNS/NN)\n",
      "  ]/NNP\n",
      "  (NP because/IN/NN)\n",
      "  [/NNP\n",
      "  (NP they/PP/NN)\n",
      "  ]/NNP\n",
      "  (NP permit/VBP/NN)\n",
      "  [/NNP\n",
      "  (NP portfolio/NN/NN)\n",
      "  (NP managers/NNS/NN)\n",
      "  ]/NNP\n",
      "  (NP to/TO/NN)\n",
      "  (NP retain/VB/NN)\n",
      "  (NP relatively/RB/NN)\n",
      "  [/NNP\n",
      "  (NP higher/JJR/NN)\n",
      "  (NP rates/NNS/NN)\n",
      "  ]/NNP\n",
      "  (NP for/IN/NN)\n",
      "  [/NNP\n",
      "  (NP a/DT/NN)\n",
      "  (NP longer/JJR/NN)\n",
      "  (NP period/NN/NN)\n",
      "  ]/NNP\n",
      "  .//NNP\n",
      "  ./.)\n"
     ]
    }
   ],
   "source": [
    "# https://www.guru99.com/pos-tagging-chunking-nltk.html\n",
    "# https://www.datacamp.com/tutorial/stemming-lemmatization-python\n",
    "#text = \"learn php from guru99\"\n",
    "tokens = nltk.word_tokenize(corpus[1])\n",
    "print(tokens)\n",
    "tag = nltk.pos_tag(tokens)\n",
    "print(tag)\n",
    "grammar = \"NP: {<DT>?<JJ>*<NN>}\"\n",
    "cp  =nltk.RegexpParser(grammar)\n",
    "result = cp.parse(tag)\n",
    "print(result)\n",
    "result.draw()    # It will draw the pattern graphically which can be seen in Noun Phrase chunking"
   ],
   "metadata": {
    "collapsed": false,
    "pycharm": {
     "name": "#%%\n"
    }
   }
  }
 ],
 "metadata": {
  "kernelspec": {
   "display_name": "Python 3",
   "language": "python",
   "name": "python3"
  },
  "language_info": {
   "codemirror_mode": {
    "name": "ipython",
    "version": 2
   },
   "file_extension": ".py",
   "mimetype": "text/x-python",
   "name": "python",
   "nbconvert_exporter": "python",
   "pygments_lexer": "ipython2",
   "version": "2.7.6"
  }
 },
 "nbformat": 4,
 "nbformat_minor": 0
}